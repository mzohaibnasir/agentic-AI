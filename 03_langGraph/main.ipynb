{
 "cells": [
  {
   "cell_type": "code",
   "execution_count": null,
   "metadata": {},
   "outputs": [],
   "source": []
  },
  {
   "cell_type": "markdown",
   "metadata": {
    "vscode": {
     "languageId": "plaintext"
    }
   },
   "source": [
    "# when a chatbot needs to move from one step(state) to another, we call it state managment"
   ]
  },
  {
   "cell_type": "code",
   "execution_count": null,
   "metadata": {},
   "outputs": [],
   "source": []
  },
  {
   "cell_type": "code",
   "execution_count": 1,
   "metadata": {},
   "outputs": [],
   "source": [
    "# ! pip install langgraph langsmith"
   ]
  },
  {
   "cell_type": "code",
   "execution_count": 2,
   "metadata": {},
   "outputs": [],
   "source": [
    "# ! pip install langchain langchain_groq langchain_community"
   ]
  },
  {
   "cell_type": "code",
   "execution_count": 3,
   "metadata": {},
   "outputs": [
    {
     "data": {
      "text/plain": [
       "True"
      ]
     },
     "execution_count": 3,
     "metadata": {},
     "output_type": "execute_result"
    }
   ],
   "source": [
    "import os\n",
    "from dotenv import load_dotenv\n",
    "\n",
    "load_dotenv()"
   ]
  },
  {
   "cell_type": "code",
   "execution_count": 4,
   "metadata": {},
   "outputs": [],
   "source": [
    "groq_api_key = os.environ[\"GROQ_API_KEY\"]\n",
    "langsmith_api_key = os.environ[\"LANGSMITH_API_KEY\"]\n",
    "\n",
    "\n",
    "import os\n",
    "\n",
    "os.environ[\"LANGCHAIN_TRACKING_V2\"] = \"true\"\n",
    "os.environ[\"LANGCHAIN_PROJECT\"] = \"LiveLanggraph\"\n",
    "os.environ[\"LANGCHAIN_API_KEY\"] = langsmith_api_key"
   ]
  },
  {
   "cell_type": "code",
   "execution_count": null,
   "metadata": {},
   "outputs": [],
   "source": []
  },
  {
   "cell_type": "code",
   "execution_count": 5,
   "metadata": {},
   "outputs": [
    {
     "data": {
      "text/plain": [
       "ChatGroq(client=<groq.resources.chat.completions.Completions object at 0x7d116206a090>, async_client=<groq.resources.chat.completions.AsyncCompletions object at 0x7d116206aba0>, model_name='llama3-8b-8192', model_kwargs={}, groq_api_key=SecretStr('**********'))"
      ]
     },
     "execution_count": 5,
     "metadata": {},
     "output_type": "execute_result"
    }
   ],
   "source": [
    "from langchain_groq import ChatGroq\n",
    "\n",
    "llm = ChatGroq(\n",
    "    groq_api_key=groq_api_key,\n",
    "    model_name=\"llama3-8b-8192\",\n",
    ")\n",
    "llm"
   ]
  },
  {
   "cell_type": "code",
   "execution_count": null,
   "metadata": {},
   "outputs": [],
   "source": []
  },
  {
   "cell_type": "code",
   "execution_count": null,
   "metadata": {},
   "outputs": [],
   "source": []
  },
  {
   "cell_type": "markdown",
   "metadata": {},
   "source": [
    "# start building chatbot"
   ]
  },
  {
   "cell_type": "markdown",
   "metadata": {},
   "source": [
    "When defining a graph, the first step is to define its State. The State includes the graph's schema and reducer functions that handle state updates. In our example, State is a TypedDict with one key: messages. The add_messages reducer function is used to append new messages to the list instead of overwriting it. Keys without a reducer annotation will overwrite previous values. Learn more about state, reducers, and related concepts in this guide./"
   ]
  },
  {
   "cell_type": "code",
   "execution_count": null,
   "metadata": {},
   "outputs": [],
   "source": []
  },
  {
   "cell_type": "code",
   "execution_count": 6,
   "metadata": {},
   "outputs": [],
   "source": [
    "from typing import Annotated\n",
    "from typing_extensions import TypedDict\n",
    "from langgraph.graph import StateGraph, START, END  # stategraph for state managment\n",
    "\n",
    "# stateGraph would be changing based on some parameters\n",
    "from langgraph.graph.message import add_messages  # stateGraph\n",
    "\n",
    "# adding messages changes state of the agent, when user asks a query, llm will respond, the message will get added iver here instead and then' the state of agent will also chamhe\n",
    "# basically thsese messages keep track of all those things."
   ]
  },
  {
   "cell_type": "code",
   "execution_count": null,
   "metadata": {},
   "outputs": [],
   "source": []
  },
  {
   "cell_type": "markdown",
   "metadata": {},
   "source": [
    "Start by creating a StateGraph. A StateGraph object defines the structure of our chatbot as a \"state machine\"."
   ]
  },
  {
   "cell_type": "code",
   "execution_count": 7,
   "metadata": {},
   "outputs": [],
   "source": [
    "class State(TypedDict):\n",
    "    # Messages have type \"List\". The `add_messages` function in the annotation defines\n",
    "    # how this state key should be updated.\n",
    "    # (in this case, it appends messages to the list, rather  than overwriting them)\n",
    "    messages: Annotated[list, add_messages]\n",
    "    # we have created a variable messages and it is of type annotated and this ANnotated is saying that this islost type and I'm using fn\n",
    "    # add_messages to append messages to this list\n",
    "    # with every add_messages we will be chging our state"
   ]
  },
  {
   "cell_type": "code",
   "execution_count": null,
   "metadata": {},
   "outputs": [],
   "source": []
  },
  {
   "cell_type": "code",
   "execution_count": 8,
   "metadata": {},
   "outputs": [
    {
     "data": {
      "text/plain": [
       "<langgraph.graph.state.StateGraph at 0x7d1161f92570>"
      ]
     },
     "execution_count": 8,
     "metadata": {},
     "output_type": "execute_result"
    }
   ],
   "source": [
    "graph_builder = StateGraph(\n",
    "    State\n",
    ")  # because State knows which messages are there and what messages are basically getting appended\n",
    "graph_builder  # so this graph is responsible for entire state management"
   ]
  },
  {
   "cell_type": "code",
   "execution_count": null,
   "metadata": {},
   "outputs": [],
   "source": []
  },
  {
   "cell_type": "code",
   "execution_count": null,
   "metadata": {},
   "outputs": [],
   "source": []
  },
  {
   "cell_type": "code",
   "execution_count": null,
   "metadata": {},
   "outputs": [],
   "source": []
  },
  {
   "cell_type": "code",
   "execution_count": null,
   "metadata": {},
   "outputs": [],
   "source": []
  },
  {
   "cell_type": "markdown",
   "metadata": {},
   "source": [
    "# Every node needs to  take State as  a parameter, because based on these state messages, the state managment will kee on changing."
   ]
  },
  {
   "cell_type": "code",
   "execution_count": 9,
   "metadata": {},
   "outputs": [],
   "source": [
    "def chatbot(state: State):\n",
    "    # after every response from chatbot, we need to update the messages variable\n",
    "    return {\n",
    "        \"messages\": llm.invoke(state[\"messages\"])\n",
    "    }  # here response is being appened to messages\n",
    "\n",
    "    # this function is invoking the previous messages given by the user and we are returing some kind of messgae sover here."
   ]
  },
  {
   "cell_type": "code",
   "execution_count": null,
   "metadata": {},
   "outputs": [],
   "source": []
  },
  {
   "cell_type": "markdown",
   "metadata": {},
   "source": [
    "# add this chatbot to the graph builder"
   ]
  },
  {
   "cell_type": "code",
   "execution_count": 10,
   "metadata": {},
   "outputs": [
    {
     "data": {
      "text/plain": [
       "<langgraph.graph.state.StateGraph at 0x7d1161f92570>"
      ]
     },
     "execution_count": 10,
     "metadata": {},
     "output_type": "execute_result"
    }
   ],
   "source": [
    "graph_builder.add_node(\"chatbot\", chatbot)  #"
   ]
  },
  {
   "cell_type": "code",
   "execution_count": 11,
   "metadata": {},
   "outputs": [
    {
     "data": {
      "text/plain": [
       "<langgraph.graph.state.StateGraph at 0x7d1161f92570>"
      ]
     },
     "execution_count": 11,
     "metadata": {},
     "output_type": "execute_result"
    }
   ],
   "source": [
    "graph_builder.add_edge(START, \"chatbot\")\n",
    "graph_builder.add_edge(\"chatbot\", END)"
   ]
  },
  {
   "cell_type": "code",
   "execution_count": null,
   "metadata": {},
   "outputs": [],
   "source": []
  },
  {
   "cell_type": "code",
   "execution_count": 12,
   "metadata": {},
   "outputs": [],
   "source": [
    "graph = graph_builder.compile()"
   ]
  },
  {
   "cell_type": "code",
   "execution_count": 13,
   "metadata": {},
   "outputs": [
    {
     "data": {
      "image/png": "[encoded data removed]",
      "text/plain": [
       "<IPython.core.display.Image object>"
      ]
     },
     "metadata": {},
     "output_type": "display_data"
    }
   ],
   "source": [
    "from IPython.display import display, Image\n",
    "\n",
    "\n",
    "try:\n",
    "    display(Image(graph.get_graph().draw_mermaid_png()))\n",
    "except Exception:\n",
    "    pass"
   ]
  },
  {
   "cell_type": "markdown",
   "metadata": {},
   "source": [
    "# statrt and end are there by defau;t"
   ]
  },
  {
   "cell_type": "code",
   "execution_count": null,
   "metadata": {},
   "outputs": [],
   "source": []
  },
  {
   "cell_type": "code",
   "execution_count": null,
   "metadata": {},
   "outputs": [],
   "source": []
  },
  {
   "cell_type": "code",
   "execution_count": null,
   "metadata": {},
   "outputs": [],
   "source": []
  },
  {
   "cell_type": "code",
   "execution_count": 14,
   "metadata": {},
   "outputs": [
    {
     "name": "stdout",
     "output_type": "stream",
     "text": [
      "dict_values([{'messages': AIMessage(content=\"It seems like you might have accidentally sent an empty message! If you meant to ask something or share something, feel free to try again, and I'll do my best to help!\", additional_kwargs={}, response_metadata={'token_usage': {'completion_tokens': 38, 'prompt_tokens': 10, 'total_tokens': 48, 'completion_time': 0.031666667, 'prompt_time': 0.003578573, 'queue_time': 0.109180656, 'total_time': 0.03524524}, 'model_name': 'llama3-8b-8192', 'system_fingerprint': 'fp_a97cfe35ae', 'finish_reason': 'stop', 'logprobs': None}, id='run-23bc7a1b-64fd-4106-8511-0eada3c6611d-0', usage_metadata={'input_tokens': 10, 'output_tokens': 38, 'total_tokens': 48})}])\n",
      "value['messages']=AIMessage(content=\"It seems like you might have accidentally sent an empty message! If you meant to ask something or share something, feel free to try again, and I'll do my best to help!\", additional_kwargs={}, response_metadata={'token_usage': {'completion_tokens': 38, 'prompt_tokens': 10, 'total_tokens': 48, 'completion_time': 0.031666667, 'prompt_time': 0.003578573, 'queue_time': 0.109180656, 'total_time': 0.03524524}, 'model_name': 'llama3-8b-8192', 'system_fingerprint': 'fp_a97cfe35ae', 'finish_reason': 'stop', 'logprobs': None}, id='run-23bc7a1b-64fd-4106-8511-0eada3c6611d-0', usage_metadata={'input_tokens': 10, 'output_tokens': 38, 'total_tokens': 48})\n",
      "Assistant: It seems like you might have accidentally sent an empty message! If you meant to ask something or share something, feel free to try again, and I'll do my best to help!\n",
      "dict_values([{'messages': AIMessage(content=\"Hi! It's nice to meet you. Is there something I can help you with, or would you like to chat?\", additional_kwargs={}, response_metadata={'token_usage': {'completion_tokens': 26, 'prompt_tokens': 11, 'total_tokens': 37, 'completion_time': 0.021666667, 'prompt_time': 0.001710757, 'queue_time': 0.018225473, 'total_time': 0.023377424}, 'model_name': 'llama3-8b-8192', 'system_fingerprint': 'fp_a97cfe35ae', 'finish_reason': 'stop', 'logprobs': None}, id='run-5f3ec43e-9ef2-4a70-bfe1-c2a6c25347d6-0', usage_metadata={'input_tokens': 11, 'output_tokens': 26, 'total_tokens': 37})}])\n",
      "value['messages']=AIMessage(content=\"Hi! It's nice to meet you. Is there something I can help you with, or would you like to chat?\", additional_kwargs={}, response_metadata={'token_usage': {'completion_tokens': 26, 'prompt_tokens': 11, 'total_tokens': 37, 'completion_time': 0.021666667, 'prompt_time': 0.001710757, 'queue_time': 0.018225473, 'total_time': 0.023377424}, 'model_name': 'llama3-8b-8192', 'system_fingerprint': 'fp_a97cfe35ae', 'finish_reason': 'stop', 'logprobs': None}, id='run-5f3ec43e-9ef2-4a70-bfe1-c2a6c25347d6-0', usage_metadata={'input_tokens': 11, 'output_tokens': 26, 'total_tokens': 37})\n",
      "Assistant: Hi! It's nice to meet you. Is there something I can help you with, or would you like to chat?\n",
      "dict_values([{'messages': AIMessage(content=\"Hi! It's nice to meet you. Is there something I can help you with or would you like to chat?\", additional_kwargs={}, response_metadata={'token_usage': {'completion_tokens': 25, 'prompt_tokens': 11, 'total_tokens': 36, 'completion_time': 0.020833333, 'prompt_time': 0.002314193, 'queue_time': 0.017473907, 'total_time': 0.023147526}, 'model_name': 'llama3-8b-8192', 'system_fingerprint': 'fp_6a6771ae9c', 'finish_reason': 'stop', 'logprobs': None}, id='run-c6f1f978-caed-47d8-8644-313a10bd67ca-0', usage_metadata={'input_tokens': 11, 'output_tokens': 25, 'total_tokens': 36})}])\n",
      "value['messages']=AIMessage(content=\"Hi! It's nice to meet you. Is there something I can help you with or would you like to chat?\", additional_kwargs={}, response_metadata={'token_usage': {'completion_tokens': 25, 'prompt_tokens': 11, 'total_tokens': 36, 'completion_time': 0.020833333, 'prompt_time': 0.002314193, 'queue_time': 0.017473907, 'total_time': 0.023147526}, 'model_name': 'llama3-8b-8192', 'system_fingerprint': 'fp_6a6771ae9c', 'finish_reason': 'stop', 'logprobs': None}, id='run-c6f1f978-caed-47d8-8644-313a10bd67ca-0', usage_metadata={'input_tokens': 11, 'output_tokens': 25, 'total_tokens': 36})\n",
      "Assistant: Hi! It's nice to meet you. Is there something I can help you with or would you like to chat?\n",
      "dict_values([{'messages': AIMessage(content='I\\'m just an AI, I don\\'t have feelings or emotions like humans do, so I don\\'t have a personal sense of well-being or health. I exist solely to process and generate text, so I\\'m always \"functioning\" in the sense that I can respond to questions and engage in conversation. However, I am designed to be helpful and assist with tasks, so I\\'m \"working\" to the best of my abilities to provide accurate and useful information! How about you, how are you doing today?', additional_kwargs={}, response_metadata={'token_usage': {'completion_tokens': 105, 'prompt_tokens': 13, 'total_tokens': 118, 'completion_time': 0.0875, 'prompt_time': 0.002212714, 'queue_time': 0.018606394999999998, 'total_time': 0.089712714}, 'model_name': 'llama3-8b-8192', 'system_fingerprint': 'fp_6a6771ae9c', 'finish_reason': 'stop', 'logprobs': None}, id='run-9e35142c-3151-4b34-966c-b4dcf831b452-0', usage_metadata={'input_tokens': 13, 'output_tokens': 105, 'total_tokens': 118})}])\n",
      "value['messages']=AIMessage(content='I\\'m just an AI, I don\\'t have feelings or emotions like humans do, so I don\\'t have a personal sense of well-being or health. I exist solely to process and generate text, so I\\'m always \"functioning\" in the sense that I can respond to questions and engage in conversation. However, I am designed to be helpful and assist with tasks, so I\\'m \"working\" to the best of my abilities to provide accurate and useful information! How about you, how are you doing today?', additional_kwargs={}, response_metadata={'token_usage': {'completion_tokens': 105, 'prompt_tokens': 13, 'total_tokens': 118, 'completion_time': 0.0875, 'prompt_time': 0.002212714, 'queue_time': 0.018606394999999998, 'total_time': 0.089712714}, 'model_name': 'llama3-8b-8192', 'system_fingerprint': 'fp_6a6771ae9c', 'finish_reason': 'stop', 'logprobs': None}, id='run-9e35142c-3151-4b34-966c-b4dcf831b452-0', usage_metadata={'input_tokens': 13, 'output_tokens': 105, 'total_tokens': 118})\n",
      "Assistant: I'm just an AI, I don't have feelings or emotions like humans do, so I don't have a personal sense of well-being or health. I exist solely to process and generate text, so I'm always \"functioning\" in the sense that I can respond to questions and engage in conversation. However, I am designed to be helpful and assist with tasks, so I'm \"working\" to the best of my abilities to provide accurate and useful information! How about you, how are you doing today?\n",
      "dict_values([{'messages': AIMessage(content=\"I'd be happy to help you. Please provide more details about what you need help with, such as:\\n\\n* A specific problem or challenge you're facing\\n* A question or query you have\\n* A topic or subject you're struggling with\\n* A goal or objective you're trying to achieve\\n\\nThe more information you provide, the better I'll be able to assist you.\", additional_kwargs={}, response_metadata={'token_usage': {'completion_tokens': 78, 'prompt_tokens': 13, 'total_tokens': 91, 'completion_time': 0.065, 'prompt_time': 0.002171115, 'queue_time': 0.019835284999999998, 'total_time': 0.067171115}, 'model_name': 'llama3-8b-8192', 'system_fingerprint': 'fp_6a6771ae9c', 'finish_reason': 'stop', 'logprobs': None}, id='run-c97b2936-eb9c-43c2-b899-c1992d9b458d-0', usage_metadata={'input_tokens': 13, 'output_tokens': 78, 'total_tokens': 91})}])\n",
      "value['messages']=AIMessage(content=\"I'd be happy to help you. Please provide more details about what you need help with, such as:\\n\\n* A specific problem or challenge you're facing\\n* A question or query you have\\n* A topic or subject you're struggling with\\n* A goal or objective you're trying to achieve\\n\\nThe more information you provide, the better I'll be able to assist you.\", additional_kwargs={}, response_metadata={'token_usage': {'completion_tokens': 78, 'prompt_tokens': 13, 'total_tokens': 91, 'completion_time': 0.065, 'prompt_time': 0.002171115, 'queue_time': 0.019835284999999998, 'total_time': 0.067171115}, 'model_name': 'llama3-8b-8192', 'system_fingerprint': 'fp_6a6771ae9c', 'finish_reason': 'stop', 'logprobs': None}, id='run-c97b2936-eb9c-43c2-b899-c1992d9b458d-0', usage_metadata={'input_tokens': 13, 'output_tokens': 78, 'total_tokens': 91})\n",
      "Assistant: I'd be happy to help you. Please provide more details about what you need help with, such as:\n",
      "\n",
      "* A specific problem or challenge you're facing\n",
      "* A question or query you have\n",
      "* A topic or subject you're struggling with\n",
      "* A goal or objective you're trying to achieve\n",
      "\n",
      "The more information you provide, the better I'll be able to assist you.\n",
      "dict_values([{'messages': AIMessage(content=\"It sounds like you're having trouble sleeping. That can be really frustrating and affect your mood and energy levels. Have you tried any relaxation techniques or strategies to help you fall asleep? Sometimes a warm bath, reading a book, or practicing deep breathing exercises can help calm your mind and body before bed. Do you have any favorite things you like to do before bed to help you relax?\", additional_kwargs={}, response_metadata={'token_usage': {'completion_tokens': 78, 'prompt_tokens': 14, 'total_tokens': 92, 'completion_time': 0.065, 'prompt_time': 0.002847259, 'queue_time': 0.021482368999999998, 'total_time': 0.067847259}, 'model_name': 'llama3-8b-8192', 'system_fingerprint': 'fp_a97cfe35ae', 'finish_reason': 'stop', 'logprobs': None}, id='run-3a3e3307-7d23-4e8c-ba16-b8b1b13f7af6-0', usage_metadata={'input_tokens': 14, 'output_tokens': 78, 'total_tokens': 92})}])\n",
      "value['messages']=AIMessage(content=\"It sounds like you're having trouble sleeping. That can be really frustrating and affect your mood and energy levels. Have you tried any relaxation techniques or strategies to help you fall asleep? Sometimes a warm bath, reading a book, or practicing deep breathing exercises can help calm your mind and body before bed. Do you have any favorite things you like to do before bed to help you relax?\", additional_kwargs={}, response_metadata={'token_usage': {'completion_tokens': 78, 'prompt_tokens': 14, 'total_tokens': 92, 'completion_time': 0.065, 'prompt_time': 0.002847259, 'queue_time': 0.021482368999999998, 'total_time': 0.067847259}, 'model_name': 'llama3-8b-8192', 'system_fingerprint': 'fp_a97cfe35ae', 'finish_reason': 'stop', 'logprobs': None}, id='run-3a3e3307-7d23-4e8c-ba16-b8b1b13f7af6-0', usage_metadata={'input_tokens': 14, 'output_tokens': 78, 'total_tokens': 92})\n",
      "Assistant: It sounds like you're having trouble sleeping. That can be really frustrating and affect your mood and energy levels. Have you tried any relaxation techniques or strategies to help you fall asleep? Sometimes a warm bath, reading a book, or practicing deep breathing exercises can help calm your mind and body before bed. Do you have any favorite things you like to do before bed to help you relax?\n",
      "dict_values([{'messages': AIMessage(content='Oh girl, sleeping is like, the best thing ever! But sometimes it can be super hard to get a good night\\'s sleep, you know? So, I\\'m gonna share some tips that work for me, and maybe they\\'ll work for you too!\\n\\nFirst of all, you gotta create a sleep-conducive environment, you feel me? That means making your bedroom dark, quiet, and cool. Like, if it\\'s too bright or noisy, it\\'s gonna be hard to wind down. And if it\\'s too hot or cold, you\\'ll be all like, \"Ugh, I\\'m so uncomfortable!\" So, make sure your room is all cozy and inviting.\\n\\nNext up, get rid of those electronic devices, girl! Like, put your phone on silent mode and stash it under your bed or something. The blue light from screens can mess with your sleep patterns, and it\\'s just not good for you, okay? So, try to avoid them for at least an hour before bedtime.\\n\\nNow, I know it can be tempting to scroll through social media or watch a show before bed, but trust me, it\\'s not worth it. You\\'ll just end up lying awake thinking about all the drama or stressors from your day, and that\\'s not relaxing at all. Instead, try reading a book or listening to some calming music. That way, you can wind down and prepare your mind for sleep.\\n\\nAnd, girl, don\\'t even get me started on exercise! Like, I know it\\'s good for you and all, but too much exercise too close to bedtime can actually make it harder to fall asleep. So, try to finish up your workout a few hours before bed, and then relax with a warm bath or something.\\n\\nNow, here\\'s the most important part: relaxation techniques! Like, you gotta learn to chill out, you know? Try deep breathing exercises, progressive muscle relaxation, or even some gentle stretches. That way, you can calm your mind and body, and get ready for a good night\\'s sleep.\\n\\nAnd, finally, don\\'t stress about not sleeping, okay? Like, it\\'s okay to have a bad night\\'s sleep every now and then. Just roll with it, and try to get a good nap in during the day if you need to. And remember, the more you stress about not sleeping, the harder it\\'ll be to fall asleep, you feel me?\\n\\nSo, there you have it, girl! Those are my top tips for getting a good night\\'s sleep. Just remember to create a sleep-friendly environment, avoid screens, relax, and don\\'t stress about it too much. And if all else fails, just try to get a good nap in, and worry about the rest later!', additional_kwargs={}, response_metadata={'token_usage': {'completion_tokens': 556, 'prompt_tokens': 30, 'total_tokens': 586, 'completion_time': 0.463333333, 'prompt_time': 0.003968301, 'queue_time': 0.018889518, 'total_time': 0.467301634}, 'model_name': 'llama3-8b-8192', 'system_fingerprint': 'fp_6a6771ae9c', 'finish_reason': 'stop', 'logprobs': None}, id='run-889175b3-53ef-4e68-b0fb-5511bd4b1a1e-0', usage_metadata={'input_tokens': 30, 'output_tokens': 556, 'total_tokens': 586})}])\n",
      "value['messages']=AIMessage(content='Oh girl, sleeping is like, the best thing ever! But sometimes it can be super hard to get a good night\\'s sleep, you know? So, I\\'m gonna share some tips that work for me, and maybe they\\'ll work for you too!\\n\\nFirst of all, you gotta create a sleep-conducive environment, you feel me? That means making your bedroom dark, quiet, and cool. Like, if it\\'s too bright or noisy, it\\'s gonna be hard to wind down. And if it\\'s too hot or cold, you\\'ll be all like, \"Ugh, I\\'m so uncomfortable!\" So, make sure your room is all cozy and inviting.\\n\\nNext up, get rid of those electronic devices, girl! Like, put your phone on silent mode and stash it under your bed or something. The blue light from screens can mess with your sleep patterns, and it\\'s just not good for you, okay? So, try to avoid them for at least an hour before bedtime.\\n\\nNow, I know it can be tempting to scroll through social media or watch a show before bed, but trust me, it\\'s not worth it. You\\'ll just end up lying awake thinking about all the drama or stressors from your day, and that\\'s not relaxing at all. Instead, try reading a book or listening to some calming music. That way, you can wind down and prepare your mind for sleep.\\n\\nAnd, girl, don\\'t even get me started on exercise! Like, I know it\\'s good for you and all, but too much exercise too close to bedtime can actually make it harder to fall asleep. So, try to finish up your workout a few hours before bed, and then relax with a warm bath or something.\\n\\nNow, here\\'s the most important part: relaxation techniques! Like, you gotta learn to chill out, you know? Try deep breathing exercises, progressive muscle relaxation, or even some gentle stretches. That way, you can calm your mind and body, and get ready for a good night\\'s sleep.\\n\\nAnd, finally, don\\'t stress about not sleeping, okay? Like, it\\'s okay to have a bad night\\'s sleep every now and then. Just roll with it, and try to get a good nap in during the day if you need to. And remember, the more you stress about not sleeping, the harder it\\'ll be to fall asleep, you feel me?\\n\\nSo, there you have it, girl! Those are my top tips for getting a good night\\'s sleep. Just remember to create a sleep-friendly environment, avoid screens, relax, and don\\'t stress about it too much. And if all else fails, just try to get a good nap in, and worry about the rest later!', additional_kwargs={}, response_metadata={'token_usage': {'completion_tokens': 556, 'prompt_tokens': 30, 'total_tokens': 586, 'completion_time': 0.463333333, 'prompt_time': 0.003968301, 'queue_time': 0.018889518, 'total_time': 0.467301634}, 'model_name': 'llama3-8b-8192', 'system_fingerprint': 'fp_6a6771ae9c', 'finish_reason': 'stop', 'logprobs': None}, id='run-889175b3-53ef-4e68-b0fb-5511bd4b1a1e-0', usage_metadata={'input_tokens': 30, 'output_tokens': 556, 'total_tokens': 586})\n",
      "Assistant: Oh girl, sleeping is like, the best thing ever! But sometimes it can be super hard to get a good night's sleep, you know? So, I'm gonna share some tips that work for me, and maybe they'll work for you too!\n",
      "\n",
      "First of all, you gotta create a sleep-conducive environment, you feel me? That means making your bedroom dark, quiet, and cool. Like, if it's too bright or noisy, it's gonna be hard to wind down. And if it's too hot or cold, you'll be all like, \"Ugh, I'm so uncomfortable!\" So, make sure your room is all cozy and inviting.\n",
      "\n",
      "Next up, get rid of those electronic devices, girl! Like, put your phone on silent mode and stash it under your bed or something. The blue light from screens can mess with your sleep patterns, and it's just not good for you, okay? So, try to avoid them for at least an hour before bedtime.\n",
      "\n",
      "Now, I know it can be tempting to scroll through social media or watch a show before bed, but trust me, it's not worth it. You'll just end up lying awake thinking about all the drama or stressors from your day, and that's not relaxing at all. Instead, try reading a book or listening to some calming music. That way, you can wind down and prepare your mind for sleep.\n",
      "\n",
      "And, girl, don't even get me started on exercise! Like, I know it's good for you and all, but too much exercise too close to bedtime can actually make it harder to fall asleep. So, try to finish up your workout a few hours before bed, and then relax with a warm bath or something.\n",
      "\n",
      "Now, here's the most important part: relaxation techniques! Like, you gotta learn to chill out, you know? Try deep breathing exercises, progressive muscle relaxation, or even some gentle stretches. That way, you can calm your mind and body, and get ready for a good night's sleep.\n",
      "\n",
      "And, finally, don't stress about not sleeping, okay? Like, it's okay to have a bad night's sleep every now and then. Just roll with it, and try to get a good nap in during the day if you need to. And remember, the more you stress about not sleeping, the harder it'll be to fall asleep, you feel me?\n",
      "\n",
      "So, there you have it, girl! Those are my top tips for getting a good night's sleep. Just remember to create a sleep-friendly environment, avoid screens, relax, and don't stress about it too much. And if all else fails, just try to get a good nap in, and worry about the rest later!\n",
      "dict_values([{'messages': AIMessage(content='Sleep! It\\'s essential for our physical and mental well-being. Here\\'s a comprehensive guide on how to sleep better:\\n\\n**Preparation**\\n\\n1. **Create a sleep-conducive environment**: Make your bedroom a sleep sanctuary. Ensure it\\'s dark, quiet, and at a comfortable temperature (around 60-67°F or 15-19°C).\\n2. **Establish a bedtime routine**: Develop a calming pre-sleep routine to signal your body that it\\'s time to sleep. This can include activities like reading, meditation, or a warm bath.\\n3. **Avoid screens before bed**: The blue light emitted from smartphones, tablets, and computers can suppress melatonin production, making it harder to fall asleep. Try to avoid screens for at least an hour before bedtime.\\n4. **Limit stimulating activities**: Avoid stimulating activities like exercise, playing video games, or watching exciting movies at least 2-3 hours before bedtime.\\n5. **Get comfortable**: Wear comfortable pajamas and make sure your bed is comfortable and supportive.\\n\\n**Getting Ready for Bed**\\n\\n1. **Set a consistent sleep schedule**: Go to bed and wake up at the same time every day, including weekends, to regulate your body\\'s internal clock.\\n2. **Use a sleep mask or earplugs**: If it\\'s difficult to sleep due to light or noise, consider using a sleep mask or earplugs.\\n3. **Try progressive muscle relaxation**: Tense and then relax different muscle groups in your body, starting from your toes and moving up to your head.\\n4. **Practice deep breathing exercises**: Take slow, deep breaths in through your nose and out through your mouth, focusing on the sensation of the breath.\\n\\n**Falling Asleep**\\n\\n1. **Try the 4-7-8 breathing technique**: Inhale through your nose for a count of 4, hold your breath for a count of 7, and exhale through your mouth for a count of 8.\\n2. **Use visualization techniques**: Imagine yourself in a peaceful, relaxing environment, such as a beach or a forest.\\n3. **Try a guided meditation**: Listen to a guided meditation recording or use an app to help you relax and fall asleep.\\n4. **Avoid worrying**: If your mind starts racing, try to focus on your breath or a calming phrase, such as \"I am relaxed and at peace.\"\\n\\n**Staying Asleep**\\n\\n1. **Stay hydrated**: Drink a glass of water before bed to ensure you\\'re well-hydrated for the night.\\n2. **Avoid snacking**: Try to avoid eating close to bedtime, as this can disrupt your sleep.\\n3. **Get comfortable**: Adjust your sleep position or use a body pillow to ensure you\\'re comfortable and relaxed.\\n4. **Try white noise**: Listen to calming music or white noise, such as rain or ocean waves, to help you fall asleep and stay asleep.\\n\\n**Waking Up**\\n\\n1. **Set a wake-up alarm**: Set an alarm for the same time every day, including weekends, to help regulate your body\\'s internal clock.\\n2. **Get some morning sunlight**: Exposure to natural light in the morning helps regulate your circadian rhythms.\\n3. **Stretch or meditate**: Start your day with some gentle stretching or meditation to help increase alertness and focus.\\n4. **Plan your day**: Set goals and priorities for the day to help you feel more focused and motivated.\\n\\nRemember, it may take some time to develop healthy sleep habits, so be patient and consistent. If you continue to struggle with sleep, consider speaking with a healthcare professional for personalized guidance.', additional_kwargs={}, response_metadata={'token_usage': {'completion_tokens': 734, 'prompt_tokens': 13, 'total_tokens': 747, 'completion_time': 0.611666667, 'prompt_time': 0.001640705, 'queue_time': 0.020404585, 'total_time': 0.613307372}, 'model_name': 'llama3-8b-8192', 'system_fingerprint': 'fp_179b0f92c9', 'finish_reason': 'stop', 'logprobs': None}, id='run-8a3afd35-24f4-4e64-a748-33624f77ab30-0', usage_metadata={'input_tokens': 13, 'output_tokens': 734, 'total_tokens': 747})}])\n",
      "value['messages']=AIMessage(content='Sleep! It\\'s essential for our physical and mental well-being. Here\\'s a comprehensive guide on how to sleep better:\\n\\n**Preparation**\\n\\n1. **Create a sleep-conducive environment**: Make your bedroom a sleep sanctuary. Ensure it\\'s dark, quiet, and at a comfortable temperature (around 60-67°F or 15-19°C).\\n2. **Establish a bedtime routine**: Develop a calming pre-sleep routine to signal your body that it\\'s time to sleep. This can include activities like reading, meditation, or a warm bath.\\n3. **Avoid screens before bed**: The blue light emitted from smartphones, tablets, and computers can suppress melatonin production, making it harder to fall asleep. Try to avoid screens for at least an hour before bedtime.\\n4. **Limit stimulating activities**: Avoid stimulating activities like exercise, playing video games, or watching exciting movies at least 2-3 hours before bedtime.\\n5. **Get comfortable**: Wear comfortable pajamas and make sure your bed is comfortable and supportive.\\n\\n**Getting Ready for Bed**\\n\\n1. **Set a consistent sleep schedule**: Go to bed and wake up at the same time every day, including weekends, to regulate your body\\'s internal clock.\\n2. **Use a sleep mask or earplugs**: If it\\'s difficult to sleep due to light or noise, consider using a sleep mask or earplugs.\\n3. **Try progressive muscle relaxation**: Tense and then relax different muscle groups in your body, starting from your toes and moving up to your head.\\n4. **Practice deep breathing exercises**: Take slow, deep breaths in through your nose and out through your mouth, focusing on the sensation of the breath.\\n\\n**Falling Asleep**\\n\\n1. **Try the 4-7-8 breathing technique**: Inhale through your nose for a count of 4, hold your breath for a count of 7, and exhale through your mouth for a count of 8.\\n2. **Use visualization techniques**: Imagine yourself in a peaceful, relaxing environment, such as a beach or a forest.\\n3. **Try a guided meditation**: Listen to a guided meditation recording or use an app to help you relax and fall asleep.\\n4. **Avoid worrying**: If your mind starts racing, try to focus on your breath or a calming phrase, such as \"I am relaxed and at peace.\"\\n\\n**Staying Asleep**\\n\\n1. **Stay hydrated**: Drink a glass of water before bed to ensure you\\'re well-hydrated for the night.\\n2. **Avoid snacking**: Try to avoid eating close to bedtime, as this can disrupt your sleep.\\n3. **Get comfortable**: Adjust your sleep position or use a body pillow to ensure you\\'re comfortable and relaxed.\\n4. **Try white noise**: Listen to calming music or white noise, such as rain or ocean waves, to help you fall asleep and stay asleep.\\n\\n**Waking Up**\\n\\n1. **Set a wake-up alarm**: Set an alarm for the same time every day, including weekends, to help regulate your body\\'s internal clock.\\n2. **Get some morning sunlight**: Exposure to natural light in the morning helps regulate your circadian rhythms.\\n3. **Stretch or meditate**: Start your day with some gentle stretching or meditation to help increase alertness and focus.\\n4. **Plan your day**: Set goals and priorities for the day to help you feel more focused and motivated.\\n\\nRemember, it may take some time to develop healthy sleep habits, so be patient and consistent. If you continue to struggle with sleep, consider speaking with a healthcare professional for personalized guidance.', additional_kwargs={}, response_metadata={'token_usage': {'completion_tokens': 734, 'prompt_tokens': 13, 'total_tokens': 747, 'completion_time': 0.611666667, 'prompt_time': 0.001640705, 'queue_time': 0.020404585, 'total_time': 0.613307372}, 'model_name': 'llama3-8b-8192', 'system_fingerprint': 'fp_179b0f92c9', 'finish_reason': 'stop', 'logprobs': None}, id='run-8a3afd35-24f4-4e64-a748-33624f77ab30-0', usage_metadata={'input_tokens': 13, 'output_tokens': 734, 'total_tokens': 747})\n",
      "Assistant: Sleep! It's essential for our physical and mental well-being. Here's a comprehensive guide on how to sleep better:\n",
      "\n",
      "**Preparation**\n",
      "\n",
      "1. **Create a sleep-conducive environment**: Make your bedroom a sleep sanctuary. Ensure it's dark, quiet, and at a comfortable temperature (around 60-67°F or 15-19°C).\n",
      "2. **Establish a bedtime routine**: Develop a calming pre-sleep routine to signal your body that it's time to sleep. This can include activities like reading, meditation, or a warm bath.\n",
      "3. **Avoid screens before bed**: The blue light emitted from smartphones, tablets, and computers can suppress melatonin production, making it harder to fall asleep. Try to avoid screens for at least an hour before bedtime.\n",
      "4. **Limit stimulating activities**: Avoid stimulating activities like exercise, playing video games, or watching exciting movies at least 2-3 hours before bedtime.\n",
      "5. **Get comfortable**: Wear comfortable pajamas and make sure your bed is comfortable and supportive.\n",
      "\n",
      "**Getting Ready for Bed**\n",
      "\n",
      "1. **Set a consistent sleep schedule**: Go to bed and wake up at the same time every day, including weekends, to regulate your body's internal clock.\n",
      "2. **Use a sleep mask or earplugs**: If it's difficult to sleep due to light or noise, consider using a sleep mask or earplugs.\n",
      "3. **Try progressive muscle relaxation**: Tense and then relax different muscle groups in your body, starting from your toes and moving up to your head.\n",
      "4. **Practice deep breathing exercises**: Take slow, deep breaths in through your nose and out through your mouth, focusing on the sensation of the breath.\n",
      "\n",
      "**Falling Asleep**\n",
      "\n",
      "1. **Try the 4-7-8 breathing technique**: Inhale through your nose for a count of 4, hold your breath for a count of 7, and exhale through your mouth for a count of 8.\n",
      "2. **Use visualization techniques**: Imagine yourself in a peaceful, relaxing environment, such as a beach or a forest.\n",
      "3. **Try a guided meditation**: Listen to a guided meditation recording or use an app to help you relax and fall asleep.\n",
      "4. **Avoid worrying**: If your mind starts racing, try to focus on your breath or a calming phrase, such as \"I am relaxed and at peace.\"\n",
      "\n",
      "**Staying Asleep**\n",
      "\n",
      "1. **Stay hydrated**: Drink a glass of water before bed to ensure you're well-hydrated for the night.\n",
      "2. **Avoid snacking**: Try to avoid eating close to bedtime, as this can disrupt your sleep.\n",
      "3. **Get comfortable**: Adjust your sleep position or use a body pillow to ensure you're comfortable and relaxed.\n",
      "4. **Try white noise**: Listen to calming music or white noise, such as rain or ocean waves, to help you fall asleep and stay asleep.\n",
      "\n",
      "**Waking Up**\n",
      "\n",
      "1. **Set a wake-up alarm**: Set an alarm for the same time every day, including weekends, to help regulate your body's internal clock.\n",
      "2. **Get some morning sunlight**: Exposure to natural light in the morning helps regulate your circadian rhythms.\n",
      "3. **Stretch or meditate**: Start your day with some gentle stretching or meditation to help increase alertness and focus.\n",
      "4. **Plan your day**: Set goals and priorities for the day to help you feel more focused and motivated.\n",
      "\n",
      "Remember, it may take some time to develop healthy sleep habits, so be patient and consistent. If you continue to struggle with sleep, consider speaking with a healthcare professional for personalized guidance.\n",
      "Good bye\n"
     ]
    }
   ],
   "source": [
    "while True:\n",
    "    user_input = input(\"User: \")\n",
    "    if user_input.lower() in [\"quit\", \"q\"]:\n",
    "        print(\"Good bye\")\n",
    "        break\n",
    "\n",
    "    # if user input something else\n",
    "    for event in graph.stream({\"messages\": (\"user\", user_input)}):  # omput by user\n",
    "        print(event.values())\n",
    "        for value in event.values():\n",
    "            print(f\"{value['messages']=}\")\n",
    "            print(\"Assistant:\", value[\"messages\"].content)"
   ]
  },
  {
   "cell_type": "code",
   "execution_count": null,
   "metadata": {},
   "outputs": [],
   "source": []
  },
  {
   "cell_type": "code",
   "execution_count": null,
   "metadata": {},
   "outputs": [],
   "source": []
  },
  {
   "cell_type": "code",
   "execution_count": null,
   "metadata": {},
   "outputs": [],
   "source": []
  },
  {
   "cell_type": "code",
   "execution_count": 16,
   "metadata": {},
   "outputs": [
    {
     "name": "stdout",
     "output_type": "stream",
     "text": [
      "event.values()=dict_values([{'messages': AIMessage(content=\"Ho ho ho! It sounds like someone's getting into the holiday spirit!\", additional_kwargs={}, response_metadata={'token_usage': {'completion_tokens': 16, 'prompt_tokens': 14, 'total_tokens': 30, 'completion_time': 0.013333333, 'prompt_time': 0.00273862, 'queue_time': 0.045689736, 'total_time': 0.016071953}, 'model_name': 'llama3-8b-8192', 'system_fingerprint': 'fp_179b0f92c9', 'finish_reason': 'stop', 'logprobs': None}, id='run-79f8cdeb-7666-4ebd-8d01-34ee3f9a5ccd-0', usage_metadata={'input_tokens': 14, 'output_tokens': 16, 'total_tokens': 30})}])\n",
      "\n",
      "\n",
      "value['messages']=AIMessage(content=\"Ho ho ho! It sounds like someone's getting into the holiday spirit!\", additional_kwargs={}, response_metadata={'token_usage': {'completion_tokens': 16, 'prompt_tokens': 14, 'total_tokens': 30, 'completion_time': 0.013333333, 'prompt_time': 0.00273862, 'queue_time': 0.045689736, 'total_time': 0.016071953}, 'model_name': 'llama3-8b-8192', 'system_fingerprint': 'fp_179b0f92c9', 'finish_reason': 'stop', 'logprobs': None}, id='run-79f8cdeb-7666-4ebd-8d01-34ee3f9a5ccd-0', usage_metadata={'input_tokens': 14, 'output_tokens': 16, 'total_tokens': 30})\n",
      "\n",
      "\n",
      "\n",
      "Assistant: Ho ho ho! It sounds like someone's getting into the holiday spirit!\n"
     ]
    }
   ],
   "source": [
    "user_input = \"Ho ho ho!\"\n",
    "\n",
    "for event in graph.stream({\"messages\": (\"user\", user_input)}):  # omput by user\n",
    "    print(f\"{event.values()=}\\n\\n\")\n",
    "    for value in event.values():\n",
    "        print(f\"{value['messages']=}\")\n",
    "        print(\"\\n\\n\\nAssistant:\", value[\"messages\"].content)"
   ]
  },
  {
   "cell_type": "code",
   "execution_count": null,
   "metadata": {},
   "outputs": [],
   "source": []
  },
  {
   "cell_type": "code",
   "execution_count": null,
   "metadata": {},
   "outputs": [],
   "source": []
  },
  {
   "cell_type": "code",
   "execution_count": null,
   "metadata": {},
   "outputs": [],
   "source": []
  },
  {
   "cell_type": "code",
   "execution_count": null,
   "metadata": {},
   "outputs": [],
   "source": []
  },
  {
   "cell_type": "markdown",
   "metadata": {},
   "source": [
    "Our graph can now handle two key tasks:\n",
    "\n",
    "Each node can receive the current State as input and output an update to the state.\n",
    "Updates to messages will be appended to the existing list rather than overwriting it, thanks to the prebuilt add_messages function used with the Annotated syntax."
   ]
  },
  {
   "cell_type": "code",
   "execution_count": null,
   "metadata": {},
   "outputs": [],
   "source": []
  },
  {
   "cell_type": "code",
   "execution_count": null,
   "metadata": {},
   "outputs": [],
   "source": []
  },
  {
   "cell_type": "markdown",
   "metadata": {},
   "source": [
    "It seems like you're trying to define a `State` class with a `messages` key that holds a list of messages, and you're annotating the list to be updated by an `add_messages` function. There is a small issue with the code. You need to close the `Annotated` function properly, and the `add_messages` function should be referenced as a callable or a function that modifies the list. Here's how you can modify the code:\n",
    "\n",
    "```python\n",
    "from typing import TypedDict, List\n",
    "from typing_extensions import Annotated\n",
    "\n",
    "def add_messages(messages: List[str], new_message: str) -> List[str]:\n",
    "    \"\"\"Example function to add a message to the list.\"\"\"\n",
    "    messages.append(new_message)\n",
    "    return messages\n",
    "\n",
    "class State(TypedDict):\n",
    "    messages: Annotated[List[str], add_messages]\n",
    "```\n",
    "\n",
    "### Explanation:\n",
    "1. `State` is a `TypedDict` that defines a dictionary structure.\n",
    "2. The `messages` key is annotated with `Annotated[List[str], add_messages]`, indicating that the value is a list of strings (`List[str]`), and the `add_messages` function will modify it.\n",
    "3. The `add_messages` function is defined to append a new message to the list and return the updated list.\n",
    "\n",
    "If `add_messages` is meant to be used to update the state, you'll need to ensure that this function is applied when modifying the `messages` field, as it's not directly related to the data type annotation itself. Let me know if you'd like further clarification or adjustments!"
   ]
  },
  {
   "cell_type": "code",
   "execution_count": null,
   "metadata": {},
   "outputs": [],
   "source": []
  },
  {
   "cell_type": "code",
   "execution_count": null,
   "metadata": {},
   "outputs": [],
   "source": []
  },
  {
   "cell_type": "code",
   "execution_count": null,
   "metadata": {},
   "outputs": [],
   "source": []
  },
  {
   "cell_type": "code",
   "execution_count": null,
   "metadata": {},
   "outputs": [],
   "source": []
  },
  {
   "cell_type": "code",
   "execution_count": null,
   "metadata": {},
   "outputs": [],
   "source": []
  },
  {
   "cell_type": "code",
   "execution_count": null,
   "metadata": {},
   "outputs": [],
   "source": []
  },
  {
   "cell_type": "code",
   "execution_count": null,
   "metadata": {},
   "outputs": [],
   "source": []
  },
  {
   "cell_type": "code",
   "execution_count": null,
   "metadata": {},
   "outputs": [],
   "source": []
  },
  {
   "cell_type": "code",
   "execution_count": null,
   "metadata": {},
   "outputs": [],
   "source": []
  },
  {
   "cell_type": "code",
   "execution_count": null,
   "metadata": {},
   "outputs": [],
   "source": []
  },
  {
   "cell_type": "code",
   "execution_count": null,
   "metadata": {},
   "outputs": [],
   "source": []
  },
  {
   "cell_type": "code",
   "execution_count": null,
   "metadata": {},
   "outputs": [],
   "source": []
  },
  {
   "cell_type": "code",
   "execution_count": null,
   "metadata": {},
   "outputs": [],
   "source": []
  },
  {
   "cell_type": "code",
   "execution_count": null,
   "metadata": {},
   "outputs": [],
   "source": []
  },
  {
   "cell_type": "code",
   "execution_count": null,
   "metadata": {},
   "outputs": [],
   "source": []
  },
  {
   "cell_type": "code",
   "execution_count": null,
   "metadata": {},
   "outputs": [],
   "source": []
  },
  {
   "cell_type": "code",
   "execution_count": null,
   "metadata": {},
   "outputs": [],
   "source": []
  },
  {
   "cell_type": "code",
   "execution_count": null,
   "metadata": {},
   "outputs": [],
   "source": []
  },
  {
   "cell_type": "code",
   "execution_count": null,
   "metadata": {},
   "outputs": [],
   "source": []
  }
 ],
 "metadata": {
  "kernelspec": {
   "display_name": "agenticAI",
   "language": "python",
   "name": "python3"
  },
  "language_info": {
   "codemirror_mode": {
    "name": "ipython",
    "version": 3
   },
   "file_extension": ".py",
   "mimetype": "text/x-python",
   "name": "python",
   "nbconvert_exporter": "python",
   "pygments_lexer": "ipython3",
   "version": "3.12.0"
  }
 },
 "nbformat": 4,
 "nbformat_minor": 2
}
